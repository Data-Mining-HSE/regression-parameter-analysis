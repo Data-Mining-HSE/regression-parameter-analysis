{
 "cells": [
  {
   "cell_type": "code",
   "execution_count": 241,
   "metadata": {},
   "outputs": [],
   "source": [
    "import pandas as pd\n",
    "from pathlib import Path\n",
    "from enum import Enum\n",
    "from dataclasses import dataclass\n",
    "from typing import Optional\n",
    "from sklearn.linear_model import LinearRegression"
   ]
  },
  {
   "cell_type": "code",
   "execution_count": 242,
   "metadata": {},
   "outputs": [],
   "source": [
    "class AbaloneDataColumnsTypes(Enum):\n",
    "    SEX = 'Sex' \n",
    "    LEN = 'Length'\n",
    "    DIAM = 'Diameter'\n",
    "    HEIGHT =  'Height'\n",
    "    W_WEIGHT =  'Whole weight'\n",
    "    SHUCK_WEIGHT = 'Shucked weight'\n",
    "    V_WEIGHT = 'Viscera weight'\n",
    "    SHELL_WEIGHT = 'Shell weight'\n",
    "    RINGS = 'Rings'\n",
    "\n",
    "    def __str__(self) -> str:\n",
    "        return self.value\n",
    "\n",
    "\n",
    "@dataclass\n",
    "class CommonParams:\n",
    "    data_path = Path('./data')\n",
    "\n",
    "    num_iterations = 100\n",
    "    selection_ratio = 0.1\n",
    "    exclude_columns = [AbaloneDataColumnsTypes.SEX]\n",
    "    predict_column = AbaloneDataColumnsTypes.RINGS"
   ]
  },
  {
   "cell_type": "code",
   "execution_count": 243,
   "metadata": {},
   "outputs": [],
   "source": [
    "def get_abalone_dataset(path: Path, abaloneDataColumns) -> pd.DataFrame:\n",
    "    dataset_features_path = path / 'abalone' / 'abalone.data'\n",
    "\n",
    "    dataset = pd.read_csv(dataset_features_path, header = None)\n",
    "    dataset.columns = abaloneDataColumns\n",
    "    return dataset"
   ]
  },
  {
   "cell_type": "code",
   "execution_count": 244,
   "metadata": {},
   "outputs": [],
   "source": [
    "def preprocess_abalone_dataset(dataset: pd.DataFrame, exclude_columns: Optional[AbaloneDataColumnsTypes] = None\n",
    "                               ) -> pd.DataFrame:\n",
    "    if exclude_columns:\n",
    "        for column in exclude_columns:\n",
    "            dataset = dataset.drop(columns=column.value)\n",
    "    return dataset"
   ]
  },
  {
   "cell_type": "code",
   "execution_count": 245,
   "metadata": {},
   "outputs": [],
   "source": [
    "def get_random_subset(dataset: pd.DataFrame, selection_ratio: float) -> pd.DataFrame:\n",
    "    dataset_size = len(dataset)\n",
    "    subset_size = int(dataset_size * selection_ratio)\n",
    "    subset = dataset.sample(subset_size)\n",
    "    return subset"
   ]
  },
  {
   "cell_type": "code",
   "execution_count": 246,
   "metadata": {},
   "outputs": [],
   "source": [
    "def x_y_split(dataset: pd.DataFrame, predicted_column: AbaloneDataColumnsTypes) -> tuple[pd.DataFrame, pd.DataFrame]:\n",
    "    data_x = dataset.copy()\n",
    "    data_x = data_x.drop(columns=[predicted_column.value])\n",
    "\n",
    "    data_y = dataset[predicted_column.value]\n",
    "    return data_x, data_y"
   ]
  },
  {
   "cell_type": "code",
   "execution_count": 247,
   "metadata": {},
   "outputs": [],
   "source": [
    "def scaleMinMax(frame: pd.DataFrame) -> pd.DataFrame:\n",
    "    return (frame - frame.min()) / (frame.max() - frame.min())"
   ]
  },
  {
   "cell_type": "code",
   "execution_count": 248,
   "metadata": {},
   "outputs": [],
   "source": [
    "def selectValuable(dataset: pd.DataFrame, quantiles = (0.5, 0.95)):\n",
    "    scaled_dataset = scaleMinMax(dataset)\n",
    "    delta = abs(scaled_dataset.quantile(quantiles[0]) - scaled_dataset.quantile(quantiles[1]))\n",
    "    return abs(delta)"
   ]
  },
  {
   "cell_type": "code",
   "execution_count": 249,
   "metadata": {},
   "outputs": [
    {
     "data": {
      "text/plain": [
       "Viscera weight    0.281677\n",
       "Shucked weight    0.291784\n",
       "Diameter          0.320069\n",
       "Shell weight      0.327771\n",
       "Height            0.352889\n",
       "Length            0.356970\n",
       "Whole weight      0.452271\n",
       "dtype: float64"
      ]
     },
     "execution_count": 249,
     "metadata": {},
     "output_type": "execute_result"
    }
   ],
   "source": [
    "params = CommonParams()\n",
    "\n",
    "abaloneDataColumns = [str(columnType) for columnType in AbaloneDataColumnsTypes]\n",
    "\n",
    "abaloneProcessedDataColumns = [str(columnType) for columnType in AbaloneDataColumnsTypes\n",
    "                               if columnType is not params.predict_column and columnType not in params.exclude_columns]\n",
    "\n",
    "dataset = get_abalone_dataset(params.data_path, abaloneDataColumns)\n",
    "processed_dataset = preprocess_abalone_dataset(dataset, params.exclude_columns)\n",
    "\n",
    "coef_history = []\n",
    "for iteration in range(params.num_iterations):\n",
    "    subset = get_random_subset(processed_dataset, params.selection_ratio)\n",
    "    \n",
    "    data_x, data_y = x_y_split(subset, params.predict_column)\n",
    "    regression = LinearRegression()\n",
    "    regression.fit(data_x, data_y)\n",
    "    coef_history.append(regression.coef_)\n",
    "\n",
    "frameHistory = pd.DataFrame(coef_history, columns=abaloneProcessedDataColumns)\n",
    "selectValuable(frameHistory).sort_values()"
   ]
  },
  {
   "cell_type": "markdown",
   "metadata": {},
   "source": [
    "Stable parameters are `Diameter`, `Viscera weight` and `Height`."
   ]
  }
 ],
 "metadata": {
  "kernelspec": {
   "display_name": "venv",
   "language": "python",
   "name": "python3"
  },
  "language_info": {
   "codemirror_mode": {
    "name": "ipython",
    "version": 3
   },
   "file_extension": ".py",
   "mimetype": "text/x-python",
   "name": "python",
   "nbconvert_exporter": "python",
   "pygments_lexer": "ipython3",
   "version": "3.9.6"
  }
 },
 "nbformat": 4,
 "nbformat_minor": 2
}
